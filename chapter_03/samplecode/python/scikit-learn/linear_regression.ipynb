{
 "cells": [
  {
   "cell_type": "code",
   "execution_count": 2,
   "metadata": {
    "collapsed": true
   },
   "outputs": [],
   "source": [
    "import numpy as np\n",
    "import pandas as pd\n",
    "import random\n",
    "import matplotlib.pyplot as plt\n",
    "from mpl_toolkits.mplot3d import Axes3D\n",
    "from numpy import linalg as LA\n",
    "\n",
    "from sklearn import linear_model\n",
    "from sklearn.linear_model import LinearRegression\n",
    "from sklearn.preprocessing import PolynomialFeatures\n",
    "from sklearn.pipeline import Pipeline"
   ]
  },
  {
   "cell_type": "code",
   "execution_count": 3,
   "metadata": {
    "collapsed": true
   },
   "outputs": [],
   "source": [
    "# 正弦波をノイズありで生成する\n",
    "\n",
    "# 学習データ\n",
    "learningX = np.sort(np.random.random(size=25)*5)\n",
    "learningY = np.sin(learningX)+np.random.normal(scale=0.1, size=25)\n",
    "# テストデータ\n",
    "testX = np.sort(np.random.random(size=25)*5)\n",
    "testY = np.sin(testX)+np.random.normal(scale=0.1, size=25)\n",
    "\n",
    "# 真値\n",
    "trueX = np.arange(0, 5, 0.1)\n",
    "trueY = np.sin(trueX)"
   ]
  },
  {
   "cell_type": "code",
   "execution_count": 22,
   "metadata": {},
   "outputs": [
    {
     "name": "stdout",
     "output_type": "stream",
     "text": [
      "[ 1.28478795 -0.26969847 -0.10784114  0.02085694]\n",
      "LinearRegression(copy_X=True, fit_intercept=True, n_jobs=1, normalize=False)\n",
      "0.439893033455\n",
      "0.490154754603\n"
     ]
    }
   ],
   "source": [
    "# CoreMLがscikit-learnの基底関数をサポートしないので，手で4次の基底関数を作る\n",
    "x1 = learningX;\n",
    "x = np.transpose([x1, x1*x1, x1*x1*x1, x1*x1*x1*x1]);\n",
    "# y_inference = lreg.predict(x)#x.dot(lreg.coef_);\n",
    "# yt = regr.predict(x1.reshape(-1,1))\n",
    "reg = linear_model.LinearRegression()\n",
    "reg.fit(x, learningY)\n",
    "\n",
    "print(reg.coef_)\n",
    "\n",
    "print(reg)\n",
    "\n",
    "# 学習したパラメータの学習性能を評価する\n",
    "inferenceY = reg.predict(x)\n",
    "error2Norm = LA.norm(learningY - inferenceY, 2)\n",
    "print(error2Norm)\n",
    "\n",
    "# 学習したパラメータの汎化性能を評価する\n",
    "x1 = testX;\n",
    "x = np.transpose([x1, x1*x1, x1*x1*x1, x1*x1*x1*x1]);\n",
    "inferenceY = reg.predict(x)\n",
    "error2Norm = LA.norm(testY - inferenceY, 2)\n",
    "print(error2Norm)"
   ]
  },
  {
   "cell_type": "code",
   "execution_count": 28,
   "metadata": {
    "collapsed": true
   },
   "outputs": [],
   "source": [
    "# CoreML用にモデルとパラメータを書き出す\n",
    "from coremltools.converters import sklearn  \n",
    "coreml_model = sklearn.convert(reg, [\"x1\", \"x2\", \"x3\", \"x4\"])\n",
    "coreml_model.author = 'Yuichi Yoshida'\n",
    "coreml_model.license = 'BSD'\n",
    "coreml_model.short_description = 'CoreML Test'\n",
    "coreml_model.save('./output/linear_model.mlmodel')"
   ]
  },
  {
   "cell_type": "code",
   "execution_count": 29,
   "metadata": {
    "collapsed": true
   },
   "outputs": [],
   "source": [
    "# CoreML用にモデルとパラメータを書き出す\n",
    "from coremltools.converters import sklearn  \n",
    "coreml_model = sklearn.convert(reg, ['x1', \"x2\", \"x3\", \"x4\"])\n",
    "coreml_model.author = 'Yuichi Yoshida'\n",
    "coreml_model.license = 'MIT'\n",
    "coreml_model.short_description = 'CoreML Test'\n",
    "coreml_model.input_description['x1'] = u'1次の入力値．推定したい値を入力してください．'\n",
    "coreml_model.input_description['x2'] = u'2次の入力値．推定したい値の2乗を入力してください．'\n",
    "coreml_model.input_description['x3'] = u'3次の入力値．推定したい値を3乗を入力してください．'\n",
    "coreml_model.input_description['x4'] = u'4次の入力値．推定したい値を4乗を入力してください．'\n",
    "coreml_model.output_description['prediction'] = u'推定した結果'\n",
    "coreml_model.save('./output/linear_model.mlmodel')"
   ]
  }
 ],
 "metadata": {
  "kernelspec": {
   "display_name": "Python 2",
   "language": "python",
   "name": "python2"
  },
  "language_info": {
   "codemirror_mode": {
    "name": "ipython",
    "version": 2
   },
   "file_extension": ".py",
   "mimetype": "text/x-python",
   "name": "python",
   "nbconvert_exporter": "python",
   "pygments_lexer": "ipython2",
   "version": "2.7.13"
  }
 },
 "nbformat": 4,
 "nbformat_minor": 2
}

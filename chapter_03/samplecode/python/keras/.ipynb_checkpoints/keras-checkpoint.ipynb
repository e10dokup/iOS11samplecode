{
 "cells": [
  {
   "cell_type": "code",
   "execution_count": 1,
   "metadata": {},
   "outputs": [
    {
     "name": "stderr",
     "output_type": "stream",
     "text": [
      "Using TensorFlow backend.\n"
     ]
    },
    {
     "name": "stdout",
     "output_type": "stream",
     "text": [
      "(60000, 28, 28)\n",
      "(28, 28)\n",
      "(60000, 'train samples')\n",
      "(10000, 'test samples')\n",
      "_________________________________________________________________\n",
      "Layer (type)                 Output Shape              Param #   \n",
      "=================================================================\n",
      "conv2d_1 (Conv2D)            (None, 28, 28, 32)        320       \n",
      "_________________________________________________________________\n",
      "activation_1 (Activation)    (None, 28, 28, 32)        0         \n",
      "_________________________________________________________________\n",
      "conv2d_2 (Conv2D)            (None, 28, 28, 32)        9248      \n",
      "_________________________________________________________________\n",
      "max_pooling2d_1 (MaxPooling2 (None, 14, 14, 32)        0         \n",
      "_________________________________________________________________\n",
      "conv2d_3 (Conv2D)            (None, 14, 14, 16)        4624      \n",
      "_________________________________________________________________\n",
      "flatten_1 (Flatten)          (None, 3136)              0         \n",
      "_________________________________________________________________\n",
      "dense_1 (Dense)              (None, 128)               401536    \n",
      "_________________________________________________________________\n",
      "activation_2 (Activation)    (None, 128)               0         \n",
      "_________________________________________________________________\n",
      "dense_2 (Dense)              (None, 10)                1290      \n",
      "=================================================================\n",
      "Total params: 417,018\n",
      "Trainable params: 417,018\n",
      "Non-trainable params: 0\n",
      "_________________________________________________________________\n",
      "Train on 60000 samples, validate on 10000 samples\n",
      "Epoch 1/10\n",
      "60000/60000 [==============================] - 10s - loss: 0.1715 - acc: 0.9474 - val_loss: 0.0520 - val_acc: 0.9821\n",
      "Epoch 2/10\n",
      "60000/60000 [==============================] - 9s - loss: 0.0453 - acc: 0.9859 - val_loss: 0.0317 - val_acc: 0.9900\n",
      "Epoch 3/10\n",
      "60000/60000 [==============================] - 9s - loss: 0.0290 - acc: 0.9911 - val_loss: 0.0270 - val_acc: 0.9916\n",
      "Epoch 4/10\n",
      "60000/60000 [==============================] - 9s - loss: 0.0210 - acc: 0.9936 - val_loss: 0.0347 - val_acc: 0.9898\n",
      "Epoch 5/10\n",
      "60000/60000 [==============================] - 9s - loss: 0.0156 - acc: 0.9955 - val_loss: 0.0298 - val_acc: 0.9914\n",
      "Epoch 6/10\n",
      "60000/60000 [==============================] - 9s - loss: 0.0122 - acc: 0.9965 - val_loss: 0.0310 - val_acc: 0.9913\n",
      "Epoch 7/10\n",
      "60000/60000 [==============================] - 9s - loss: 0.0090 - acc: 0.9972 - val_loss: 0.0326 - val_acc: 0.9922\n",
      "Epoch 8/10\n",
      "60000/60000 [==============================] - 9s - loss: 0.0072 - acc: 0.9979 - val_loss: 0.0442 - val_acc: 0.9904\n",
      "Epoch 9/10\n",
      "60000/60000 [==============================] - 9s - loss: 0.0053 - acc: 0.9983 - val_loss: 0.0402 - val_acc: 0.9914\n",
      "Epoch 10/10\n",
      "60000/60000 [==============================] - 9s - loss: 0.0047 - acc: 0.9986 - val_loss: 0.0593 - val_acc: 0.9877\n",
      "('Test loss:', 0.059328801826860948)\n",
      "('Test accuracy:', 0.98770000000000002)\n"
     ]
    }
   ],
   "source": [
    "# import keras\n",
    "import keras\n",
    "from keras.datasets import mnist\n",
    "from keras.models import Sequential\n",
    "from keras.layers import Dense, Dropout\n",
    "from keras.optimizers import RMSprop\n",
    "from keras.layers import Conv2D, MaxPooling2D\n",
    "from keras.layers import Activation, AveragePooling2D, Conv2D, Flatten\n",
    "\n",
    "batch_size = 128\n",
    "num_classes = 10\n",
    "epochs = 10\n",
    "\n",
    "# the data, shuffled and split between train and test sets\n",
    "(x_train, y_train), (x_test, y_test) = mnist.load_data()\n",
    "\n",
    "print(x_train.shape)\n",
    "print(x_train.shape[1:])\n",
    "\n",
    "# 学習データ\n",
    "# x_train = x_train.reshape(60000, 784)\n",
    "# テストデータ\n",
    "# x_test = x_test.reshape(10000, 784)\n",
    "\n",
    "img_rows = 28\n",
    "img_cols = 28\n",
    "\n",
    "x_train = x_train.reshape(x_train.shape[0], img_rows, img_cols, 1)\n",
    "x_test = x_test.reshape(x_test.shape[0], img_rows, img_cols, 1)\n",
    "input_shape = (img_rows, img_cols, 1)\n",
    "\n",
    "x_train = x_train.astype('float32')\n",
    "x_test = x_test.astype('float32')\n",
    "\n",
    "# 入力値の正規化\n",
    "x_train /= 255\n",
    "x_test /= 255\n",
    "\n",
    "# 教師データをクラス分類のデータに変換\n",
    "y_train = keras.utils.to_categorical(y_train, num_classes)\n",
    "y_test = keras.utils.to_categorical(y_test, num_classes)\n",
    "\n",
    "print(x_train.shape[0], 'train samples')\n",
    "print(x_test.shape[0], 'test samples')\n",
    "\n",
    "# ネットワーク設計\n",
    "model = Sequential()\n",
    "model.add(Conv2D(32, kernel_size=[3, 3], padding='same', activation='relu', input_shape=input_shape))\n",
    "model.add(Activation('relu'))\n",
    "model.add(Conv2D(32, kernel_size=[3, 3], padding='same', activation='relu'))\n",
    "model.add(MaxPooling2D(pool_size=(2, 2)))\n",
    "model.add(Conv2D(16, kernel_size=[3, 3], padding='same', activation='relu'))\n",
    "model.add(Flatten())\n",
    "model.add(Dense(128))\n",
    "model.add(Activation('relu'))\n",
    "model.add(Dense(num_classes, activation='softmax'))\n",
    "\n",
    "# ネットワークの構成を出力する\n",
    "model.summary()\n",
    "\n",
    "model.compile(loss='categorical_crossentropy',\n",
    "              optimizer=RMSprop(),\n",
    "              metrics=['accuracy'])\n",
    "\n",
    "history = model.fit(x_train, y_train,\n",
    "                    batch_size=batch_size,\n",
    "                    epochs=epochs,\n",
    "                    verbose=1,\n",
    "                    validation_data=(x_test, y_test))\n",
    "score = model.evaluate(x_test, y_test, verbose=0)\n",
    "print('Test loss:', score[0])\n",
    "print('Test accuracy:', score[1])"
   ]
  },
  {
   "cell_type": "code",
   "execution_count": 2,
   "metadata": {
    "collapsed": true
   },
   "outputs": [],
   "source": [
    "model.save('./KerasMNIST.h5')"
   ]
  },
  {
   "cell_type": "code",
   "execution_count": 3,
   "metadata": {},
   "outputs": [
    {
     "name": "stderr",
     "output_type": "stream",
     "text": [
      "WARNING:root:Keras version 2.0.6 detected. Last version known to be fully compatible of Keras is 2.0.4 .\n"
     ]
    },
    {
     "name": "stdout",
     "output_type": "stream",
     "text": [
      "0 : conv2d_1_input, <keras.engine.topology.InputLayer object at 0x153734290>\n",
      "1 : conv2d_1, <keras.layers.convolutional.Conv2D object at 0x1537342d0>\n",
      "2 : conv2d_1__activation__, <keras.layers.core.Activation object at 0x153d17990>\n",
      "3 : activation_1, <keras.layers.core.Activation object at 0x15348ef90>\n",
      "4 : conv2d_2, <keras.layers.convolutional.Conv2D object at 0x153734a10>\n",
      "5 : conv2d_2__activation__, <keras.layers.core.Activation object at 0x153c4f9d0>\n",
      "6 : max_pooling2d_1, <keras.layers.pooling.MaxPooling2D object at 0x153734410>\n",
      "7 : conv2d_3, <keras.layers.convolutional.Conv2D object at 0x153650890>\n",
      "8 : conv2d_3__activation__, <keras.layers.core.Activation object at 0x153c3fd50>\n",
      "9 : flatten_1, <keras.layers.core.Flatten object at 0x153670f90>\n",
      "10 : dense_1, <keras.layers.core.Dense object at 0x1536ae2d0>\n",
      "11 : activation_2, <keras.layers.core.Activation object at 0x153751ed0>\n",
      "12 : dense_2, <keras.layers.core.Dense object at 0x153784850>\n",
      "13 : dense_2__activation__, <keras.layers.core.Activation object at 0x153bff910>\n"
     ]
    }
   ],
   "source": [
    "import coremltools\n",
    "\n",
    "import keras\n",
    "\n",
    "model = keras.models.load_model('./KerasMNIST.h5')\n",
    "coreml_model = coremltools.converters.keras.convert('./KerasMNIST.h5', input_names='image', output_names='digit')\n",
    "# coreml_model = coremltools.converters.keras.convert(model, input_names='image', output_names='digit')\n",
    "\n",
    "coreml_model.author = u'Yuichi Yoshida'\n",
    "coreml_model.license = 'MIT'\n",
    "coreml_model.short_description = u'iOS11 Programmingのサンプル'\n",
    "\n",
    "coreml_model.input_description['image'] = u'入力画像'\n",
    "coreml_model.output_description['digit'] = u'推定した数字の確率'\n",
    "\n",
    "coreml_model.save('KerasMNIST.mlmodel')"
   ]
  }
 ],
 "metadata": {
  "kernelspec": {
   "display_name": "Python 2",
   "language": "python",
   "name": "python2"
  },
  "language_info": {
   "codemirror_mode": {
    "name": "ipython",
    "version": 2
   },
   "file_extension": ".py",
   "mimetype": "text/x-python",
   "name": "python",
   "nbconvert_exporter": "python",
   "pygments_lexer": "ipython2",
   "version": "2.7.13"
  }
 },
 "nbformat": 4,
 "nbformat_minor": 2
}

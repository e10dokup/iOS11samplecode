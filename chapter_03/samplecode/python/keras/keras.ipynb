{
 "cells": [
  {
   "cell_type": "code",
   "execution_count": 1,
   "metadata": {},
   "outputs": [
    {
     "name": "stderr",
     "output_type": "stream",
     "text": [
      "Using TensorFlow backend.\n"
     ]
    },
    {
     "name": "stdout",
     "output_type": "stream",
     "text": [
      "(60000, 28, 28)\n",
      "(28, 28)\n",
      "(60000, 'train samples')\n",
      "(10000, 'test samples')\n",
      "_________________________________________________________________\n",
      "Layer (type)                 Output Shape              Param #   \n",
      "=================================================================\n",
      "conv2d_1 (Conv2D)            (None, 28, 28, 32)        320       \n",
      "_________________________________________________________________\n",
      "activation_1 (Activation)    (None, 28, 28, 32)        0         \n",
      "_________________________________________________________________\n",
      "conv2d_2 (Conv2D)            (None, 28, 28, 32)        9248      \n",
      "_________________________________________________________________\n",
      "max_pooling2d_1 (MaxPooling2 (None, 14, 14, 32)        0         \n",
      "_________________________________________________________________\n",
      "conv2d_3 (Conv2D)            (None, 14, 14, 32)        9248      \n",
      "_________________________________________________________________\n",
      "flatten_1 (Flatten)          (None, 6272)              0         \n",
      "_________________________________________________________________\n",
      "dense_1 (Dense)              (None, 64)                401472    \n",
      "_________________________________________________________________\n",
      "activation_2 (Activation)    (None, 64)                0         \n",
      "_________________________________________________________________\n",
      "dense_2 (Dense)              (None, 10)                650       \n",
      "=================================================================\n",
      "Total params: 420,938\n",
      "Trainable params: 420,938\n",
      "Non-trainable params: 0\n",
      "_________________________________________________________________\n",
      "Train on 60000 samples, validate on 10000 samples\n",
      "Epoch 1/10\n",
      "60000/60000 [==============================] - 10s - loss: 0.1668 - acc: 0.9480 - val_loss: 0.0530 - val_acc: 0.9817\n",
      "Epoch 2/10\n",
      "60000/60000 [==============================] - 9s - loss: 0.0440 - acc: 0.9863 - val_loss: 0.0312 - val_acc: 0.9898\n",
      "Epoch 3/10\n",
      "60000/60000 [==============================] - 15s - loss: 0.0278 - acc: 0.9913 - val_loss: 0.0353 - val_acc: 0.9869\n",
      "Epoch 4/10\n",
      "60000/60000 [==============================] - 17s - loss: 0.0199 - acc: 0.9939 - val_loss: 0.0259 - val_acc: 0.9902\n",
      "Epoch 5/10\n",
      "60000/60000 [==============================] - 17s - loss: 0.0144 - acc: 0.9957 - val_loss: 0.0327 - val_acc: 0.9898\n",
      "Epoch 6/10\n",
      "60000/60000 [==============================] - 17s - loss: 0.0105 - acc: 0.9968 - val_loss: 0.0370 - val_acc: 0.9906\n",
      "Epoch 7/10\n",
      "60000/60000 [==============================] - 17s - loss: 0.0084 - acc: 0.9973 - val_loss: 0.0536 - val_acc: 0.9850\n",
      "Epoch 8/10\n",
      "60000/60000 [==============================] - 17s - loss: 0.0062 - acc: 0.9982 - val_loss: 0.0367 - val_acc: 0.9910\n",
      "Epoch 9/10\n",
      "60000/60000 [==============================] - 17s - loss: 0.0048 - acc: 0.9985 - val_loss: 0.0392 - val_acc: 0.9913\n",
      "Epoch 10/10\n",
      "60000/60000 [==============================] - 17s - loss: 0.0039 - acc: 0.9988 - val_loss: 0.0409 - val_acc: 0.9908\n",
      "('Test loss:', 0.040891977666209368)\n",
      "('Test accuracy:', 0.99080000000000001)\n"
     ]
    }
   ],
   "source": [
    "# import keras\n",
    "import keras\n",
    "from keras.datasets import mnist\n",
    "from keras.models import Sequential\n",
    "from keras.layers import Dense, Dropout\n",
    "from keras.optimizers import RMSprop\n",
    "from keras.layers import Conv2D, MaxPooling2D\n",
    "from keras.layers import Activation, AveragePooling2D, Conv2D, Flatten\n",
    "\n",
    "batch_size = 128\n",
    "num_classes = 10\n",
    "epochs = 10\n",
    "\n",
    "# the data, shuffled and split between train and test sets\n",
    "(x_train, y_train), (x_test, y_test) = mnist.load_data()\n",
    "\n",
    "print(x_train.shape)\n",
    "print(x_train.shape[1:])\n",
    "\n",
    "# 学習データ\n",
    "# x_train = x_train.reshape(60000, 784)\n",
    "# テストデータ\n",
    "# x_test = x_test.reshape(10000, 784)\n",
    "\n",
    "img_rows = 28\n",
    "img_cols = 28\n",
    "\n",
    "x_train = x_train.reshape(x_train.shape[0], img_rows, img_cols, 1)\n",
    "x_test = x_test.reshape(x_test.shape[0], img_rows, img_cols, 1)\n",
    "input_shape = (img_rows, img_cols, 1)\n",
    "\n",
    "x_train = x_train.astype('float32')\n",
    "x_test = x_test.astype('float32')\n",
    "\n",
    "# 入力値の正規化\n",
    "x_train /= 255\n",
    "x_test /= 255\n",
    "\n",
    "# 教師データをクラス分類のデータに変換\n",
    "y_train = keras.utils.to_categorical(y_train, num_classes)\n",
    "y_test = keras.utils.to_categorical(y_test, num_classes)\n",
    "\n",
    "print(x_train.shape[0], 'train samples')\n",
    "print(x_test.shape[0], 'test samples')\n",
    "\n",
    "# ネットワーク設計\n",
    "model = Sequential()\n",
    "model.add(Conv2D(32, kernel_size=[3, 3], padding='same', activation='relu', input_shape=input_shape))\n",
    "model.add(Activation('relu'))\n",
    "model.add(Conv2D(32, kernel_size=[3, 3], padding='same', activation='relu'))\n",
    "model.add(MaxPooling2D(pool_size=(2, 2)))\n",
    "model.add(Conv2D(32, kernel_size=[3, 3], padding='same', activation='relu'))\n",
    "model.add(Flatten())\n",
    "model.add(Dense(64))\n",
    "model.add(Activation('relu'))\n",
    "model.add(Dense(num_classes, activation='softmax'))\n",
    "\n",
    "# ネットワークの構成を出力する\n",
    "model.summary()\n",
    "\n",
    "model.compile(loss='categorical_crossentropy',\n",
    "              optimizer=RMSprop(),\n",
    "              metrics=['accuracy'])\n",
    "\n",
    "history = model.fit(x_train, y_train,\n",
    "                    batch_size=batch_size,\n",
    "                    epochs=epochs,\n",
    "                    verbose=1,\n",
    "                    validation_data=(x_test, y_test))\n",
    "score = model.evaluate(x_test, y_test, verbose=0)\n",
    "print('Test loss:', score[0])\n",
    "print('Test accuracy:', score[1])"
   ]
  },
  {
   "cell_type": "code",
   "execution_count": 8,
   "metadata": {
    "collapsed": true
   },
   "outputs": [],
   "source": [
    "model.save('./KerasMNIST.h5')"
   ]
  },
  {
   "cell_type": "code",
   "execution_count": 9,
   "metadata": {},
   "outputs": [
    {
     "name": "stderr",
     "output_type": "stream",
     "text": [
      "WARNING:root:Keras version 2.0.6 detected. Last version known to be fully compatible of Keras is 2.0.4 .\n"
     ]
    },
    {
     "name": "stdout",
     "output_type": "stream",
     "text": [
      "0 : conv2d_19_input, <keras.engine.topology.InputLayer object at 0x14219d550>\n",
      "1 : conv2d_19, <keras.layers.convolutional.Conv2D object at 0x14219d590>\n",
      "2 : conv2d_19__activation__, <keras.layers.core.Activation object at 0x142b289d0>\n",
      "3 : activation_13, <keras.layers.core.Activation object at 0x1421ac9d0>\n",
      "4 : conv2d_20, <keras.layers.convolutional.Conv2D object at 0x14219df90>\n",
      "5 : conv2d_20__activation__, <keras.layers.core.Activation object at 0x142acabd0>\n",
      "6 : max_pooling2d_7, <keras.layers.pooling.MaxPooling2D object at 0x1410fdf10>\n",
      "7 : conv2d_21, <keras.layers.convolutional.Conv2D object at 0x14219dad0>\n",
      "8 : conv2d_21__activation__, <keras.layers.core.Activation object at 0x142af4f50>\n",
      "9 : flatten_7, <keras.layers.core.Flatten object at 0x142066110>\n",
      "10 : dense_13, <keras.layers.core.Dense object at 0x14110c950>\n",
      "11 : activation_14, <keras.layers.core.Activation object at 0x142096410>\n",
      "12 : dense_14, <keras.layers.core.Dense object at 0x1420b3b90>\n",
      "13 : dense_14__activation__, <keras.layers.core.Activation object at 0x142b19d50>\n"
     ]
    }
   ],
   "source": [
    "import coremltools\n",
    "\n",
    "import keras\n",
    "\n",
    "model = keras.models.load_model('./KerasMNIST.h5')\n",
    "coreml_model = coremltools.converters.keras.convert('./KerasMNIST.h5', input_names='image', output_names='digit')\n",
    "# coreml_model = coremltools.converters.keras.convert(model, input_names='image', output_names='digit')\n",
    "\n",
    "coreml_model.author = u'Yuichi Yoshida'\n",
    "coreml_model.license = 'MIT'\n",
    "coreml_model.short_description = u'iOS11 Programmingのサンプル'\n",
    "\n",
    "coreml_model.input_description['image'] = u'入力画像'\n",
    "coreml_model.output_description['digit'] = u'推定した数字の確率'\n",
    "\n",
    "coreml_model.save('KerasMNIST.mlmodel')"
   ]
  },
  {
   "cell_type": "code",
   "execution_count": null,
   "metadata": {
    "collapsed": true
   },
   "outputs": [],
   "source": []
  }
 ],
 "metadata": {
  "kernelspec": {
   "display_name": "Python 2",
   "language": "python",
   "name": "python2"
  },
  "language_info": {
   "codemirror_mode": {
    "name": "ipython",
    "version": 2
   },
   "file_extension": ".py",
   "mimetype": "text/x-python",
   "name": "python",
   "nbconvert_exporter": "python",
   "pygments_lexer": "ipython2",
   "version": "2.7.13"
  }
 },
 "nbformat": 4,
 "nbformat_minor": 2
}
